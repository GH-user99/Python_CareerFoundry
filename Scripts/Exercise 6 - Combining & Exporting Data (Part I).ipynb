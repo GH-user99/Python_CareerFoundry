{
 "cells": [
  {
   "cell_type": "markdown",
   "id": "cb0b03f1-a5d8-48f0-b1c0-bf778bfc493e",
   "metadata": {},
   "source": [
    "# Exercise 4.6"
   ]
  },
  {
   "cell_type": "markdown",
   "id": "3586ae65-b02d-4cfe-b8a8-632f536fc076",
   "metadata": {},
   "source": [
    "#### Importing libraries and dataframes"
   ]
  },
  {
   "cell_type": "code",
   "execution_count": 1,
   "id": "84fef854-686c-4051-bc4c-53e7f99fc766",
   "metadata": {},
   "outputs": [],
   "source": [
    "# Importing libraries\n",
    "import pandas as pd\n",
    "import numpy as np\n",
    "import os"
   ]
  },
  {
   "cell_type": "code",
   "execution_count": 2,
   "id": "f4b3afca-d6ad-4dbf-ba14-c2cf888676e1",
   "metadata": {},
   "outputs": [],
   "source": [
    "# Importing 'orders_products_prior' from the 'Original data' folder\n",
    "path = r'C:\\Users\\andd0\\Documents\\InstaCart Basket Analysis'"
   ]
  },
  {
   "cell_type": "code",
   "execution_count": 3,
   "id": "20af4679-051c-485b-a295-e3c0ccea1c0b",
   "metadata": {},
   "outputs": [],
   "source": [
    "# Importing 'orders_wrangled' from the 'Prepared data' folder\n",
    "df_ords_prepared = pd.read_csv(os.path.join(path, '02 Data', 'Prepared Data', 'ords_wrangled_Ex4_5.csv'), index_col = False)"
   ]
  },
  {
   "cell_type": "code",
   "execution_count": 4,
   "id": "639092ff-64d7-4d37-8603-3eec7f0e38fa",
   "metadata": {},
   "outputs": [],
   "source": [
    "# Importing 'orders_products_prior' from the 'Original data' folder\n",
    "df_ords_prior = pd.read_csv(os.path.join(path, '02 Data', 'Original Data', 'orders_products_prior.csv'), index_col = False)"
   ]
  },
  {
   "cell_type": "code",
   "execution_count": 17,
   "id": "7ea5c0b2-df1e-497d-b9a4-4e7f3269a62e",
   "metadata": {},
   "outputs": [
    {
     "data": {
      "text/plain": [
       "(32434489, 4)"
      ]
     },
     "execution_count": 17,
     "metadata": {},
     "output_type": "execute_result"
    }
   ],
   "source": [
    "df_ords_prior.shape"
   ]
  },
  {
   "cell_type": "markdown",
   "id": "f3b76c77-ddef-4aab-ad8c-ee39e5900ad6",
   "metadata": {},
   "source": [
    "#### Checking columns, rows, and dimensions"
   ]
  },
  {
   "cell_type": "code",
   "execution_count": 5,
   "id": "e1c197ae-c3dd-48e1-9bce-2929718ac784",
   "metadata": {},
   "outputs": [
    {
     "data": {
      "text/html": [
       "<div>\n",
       "<style scoped>\n",
       "    .dataframe tbody tr th:only-of-type {\n",
       "        vertical-align: middle;\n",
       "    }\n",
       "\n",
       "    .dataframe tbody tr th {\n",
       "        vertical-align: top;\n",
       "    }\n",
       "\n",
       "    .dataframe thead th {\n",
       "        text-align: right;\n",
       "    }\n",
       "</style>\n",
       "<table border=\"1\" class=\"dataframe\">\n",
       "  <thead>\n",
       "    <tr style=\"text-align: right;\">\n",
       "      <th></th>\n",
       "      <th>order_id</th>\n",
       "      <th>product_id</th>\n",
       "      <th>add_to_cart_order</th>\n",
       "      <th>reordered</th>\n",
       "    </tr>\n",
       "  </thead>\n",
       "  <tbody>\n",
       "    <tr>\n",
       "      <th>0</th>\n",
       "      <td>2</td>\n",
       "      <td>33120</td>\n",
       "      <td>1</td>\n",
       "      <td>1</td>\n",
       "    </tr>\n",
       "    <tr>\n",
       "      <th>1</th>\n",
       "      <td>2</td>\n",
       "      <td>28985</td>\n",
       "      <td>2</td>\n",
       "      <td>1</td>\n",
       "    </tr>\n",
       "    <tr>\n",
       "      <th>2</th>\n",
       "      <td>2</td>\n",
       "      <td>9327</td>\n",
       "      <td>3</td>\n",
       "      <td>0</td>\n",
       "    </tr>\n",
       "    <tr>\n",
       "      <th>3</th>\n",
       "      <td>2</td>\n",
       "      <td>45918</td>\n",
       "      <td>4</td>\n",
       "      <td>1</td>\n",
       "    </tr>\n",
       "    <tr>\n",
       "      <th>4</th>\n",
       "      <td>2</td>\n",
       "      <td>30035</td>\n",
       "      <td>5</td>\n",
       "      <td>0</td>\n",
       "    </tr>\n",
       "  </tbody>\n",
       "</table>\n",
       "</div>"
      ],
      "text/plain": [
       "   order_id  product_id  add_to_cart_order  reordered\n",
       "0         2       33120                  1          1\n",
       "1         2       28985                  2          1\n",
       "2         2        9327                  3          0\n",
       "3         2       45918                  4          1\n",
       "4         2       30035                  5          0"
      ]
     },
     "execution_count": 5,
     "metadata": {},
     "output_type": "execute_result"
    }
   ],
   "source": [
    "# Checking the output\n",
    "df_ords_prior.head()"
   ]
  },
  {
   "cell_type": "code",
   "execution_count": 6,
   "id": "2c610af2-9a19-4122-bad2-518f13a4df85",
   "metadata": {},
   "outputs": [
    {
     "data": {
      "text/plain": [
       "order_id             0\n",
       "product_id           0\n",
       "add_to_cart_order    0\n",
       "reordered            0\n",
       "dtype: int64"
      ]
     },
     "execution_count": 6,
     "metadata": {},
     "output_type": "execute_result"
    }
   ],
   "source": [
    "df_ords_prior.isnull().sum()"
   ]
  },
  {
   "cell_type": "code",
   "execution_count": 7,
   "id": "b2fe60cf-2c05-4a9b-b42a-718fbf9df95f",
   "metadata": {},
   "outputs": [
    {
     "data": {
      "text/html": [
       "<div>\n",
       "<style scoped>\n",
       "    .dataframe tbody tr th:only-of-type {\n",
       "        vertical-align: middle;\n",
       "    }\n",
       "\n",
       "    .dataframe tbody tr th {\n",
       "        vertical-align: top;\n",
       "    }\n",
       "\n",
       "    .dataframe thead th {\n",
       "        text-align: right;\n",
       "    }\n",
       "</style>\n",
       "<table border=\"1\" class=\"dataframe\">\n",
       "  <thead>\n",
       "    <tr style=\"text-align: right;\">\n",
       "      <th></th>\n",
       "      <th>Unnamed: 0.1</th>\n",
       "      <th>Unnamed: 0</th>\n",
       "      <th>order_id</th>\n",
       "      <th>user_id</th>\n",
       "      <th>eval_set</th>\n",
       "      <th>order_number</th>\n",
       "      <th>orders_day_of_week</th>\n",
       "      <th>order_hour_of_day</th>\n",
       "      <th>days_since_prior_order</th>\n",
       "      <th>first_order</th>\n",
       "    </tr>\n",
       "  </thead>\n",
       "  <tbody>\n",
       "    <tr>\n",
       "      <th>0</th>\n",
       "      <td>0</td>\n",
       "      <td>0</td>\n",
       "      <td>2539329</td>\n",
       "      <td>1</td>\n",
       "      <td>prior</td>\n",
       "      <td>1</td>\n",
       "      <td>2</td>\n",
       "      <td>8</td>\n",
       "      <td>NaN</td>\n",
       "      <td>Yes</td>\n",
       "    </tr>\n",
       "    <tr>\n",
       "      <th>1</th>\n",
       "      <td>1</td>\n",
       "      <td>1</td>\n",
       "      <td>2398795</td>\n",
       "      <td>1</td>\n",
       "      <td>prior</td>\n",
       "      <td>2</td>\n",
       "      <td>3</td>\n",
       "      <td>7</td>\n",
       "      <td>15.0</td>\n",
       "      <td>No</td>\n",
       "    </tr>\n",
       "    <tr>\n",
       "      <th>2</th>\n",
       "      <td>2</td>\n",
       "      <td>2</td>\n",
       "      <td>473747</td>\n",
       "      <td>1</td>\n",
       "      <td>prior</td>\n",
       "      <td>3</td>\n",
       "      <td>3</td>\n",
       "      <td>12</td>\n",
       "      <td>21.0</td>\n",
       "      <td>No</td>\n",
       "    </tr>\n",
       "    <tr>\n",
       "      <th>3</th>\n",
       "      <td>3</td>\n",
       "      <td>3</td>\n",
       "      <td>2254736</td>\n",
       "      <td>1</td>\n",
       "      <td>prior</td>\n",
       "      <td>4</td>\n",
       "      <td>4</td>\n",
       "      <td>7</td>\n",
       "      <td>29.0</td>\n",
       "      <td>No</td>\n",
       "    </tr>\n",
       "    <tr>\n",
       "      <th>4</th>\n",
       "      <td>4</td>\n",
       "      <td>4</td>\n",
       "      <td>431534</td>\n",
       "      <td>1</td>\n",
       "      <td>prior</td>\n",
       "      <td>5</td>\n",
       "      <td>4</td>\n",
       "      <td>15</td>\n",
       "      <td>28.0</td>\n",
       "      <td>No</td>\n",
       "    </tr>\n",
       "  </tbody>\n",
       "</table>\n",
       "</div>"
      ],
      "text/plain": [
       "   Unnamed: 0.1  Unnamed: 0  order_id  user_id eval_set  order_number  \\\n",
       "0             0           0   2539329        1    prior             1   \n",
       "1             1           1   2398795        1    prior             2   \n",
       "2             2           2    473747        1    prior             3   \n",
       "3             3           3   2254736        1    prior             4   \n",
       "4             4           4    431534        1    prior             5   \n",
       "\n",
       "   orders_day_of_week  order_hour_of_day  days_since_prior_order first_order  \n",
       "0                   2                  8                     NaN         Yes  \n",
       "1                   3                  7                    15.0          No  \n",
       "2                   3                 12                    21.0          No  \n",
       "3                   4                  7                    29.0          No  \n",
       "4                   4                 15                    28.0          No  "
      ]
     },
     "execution_count": 7,
     "metadata": {},
     "output_type": "execute_result"
    }
   ],
   "source": [
    "df_ords_prepared.head()"
   ]
  },
  {
   "cell_type": "code",
   "execution_count": 8,
   "id": "da48d3bd-09d6-46d0-98bb-7a6f5df209e5",
   "metadata": {},
   "outputs": [],
   "source": [
    "# Dropping some columns I won't need\n",
    "df_ords_prep = df_ords_prepared.drop(columns = ['Unnamed: 0.1', 'Unnamed: 0', 'eval_set'])"
   ]
  },
  {
   "cell_type": "code",
   "execution_count": 9,
   "id": "72ff8d24-8644-43e0-824e-7a835454caf3",
   "metadata": {},
   "outputs": [
    {
     "data": {
      "text/html": [
       "<div>\n",
       "<style scoped>\n",
       "    .dataframe tbody tr th:only-of-type {\n",
       "        vertical-align: middle;\n",
       "    }\n",
       "\n",
       "    .dataframe tbody tr th {\n",
       "        vertical-align: top;\n",
       "    }\n",
       "\n",
       "    .dataframe thead th {\n",
       "        text-align: right;\n",
       "    }\n",
       "</style>\n",
       "<table border=\"1\" class=\"dataframe\">\n",
       "  <thead>\n",
       "    <tr style=\"text-align: right;\">\n",
       "      <th></th>\n",
       "      <th>order_id</th>\n",
       "      <th>user_id</th>\n",
       "      <th>order_number</th>\n",
       "      <th>orders_day_of_week</th>\n",
       "      <th>order_hour_of_day</th>\n",
       "      <th>days_since_prior_order</th>\n",
       "      <th>first_order</th>\n",
       "    </tr>\n",
       "  </thead>\n",
       "  <tbody>\n",
       "    <tr>\n",
       "      <th>0</th>\n",
       "      <td>2539329</td>\n",
       "      <td>1</td>\n",
       "      <td>1</td>\n",
       "      <td>2</td>\n",
       "      <td>8</td>\n",
       "      <td>NaN</td>\n",
       "      <td>Yes</td>\n",
       "    </tr>\n",
       "    <tr>\n",
       "      <th>1</th>\n",
       "      <td>2398795</td>\n",
       "      <td>1</td>\n",
       "      <td>2</td>\n",
       "      <td>3</td>\n",
       "      <td>7</td>\n",
       "      <td>15.0</td>\n",
       "      <td>No</td>\n",
       "    </tr>\n",
       "    <tr>\n",
       "      <th>2</th>\n",
       "      <td>473747</td>\n",
       "      <td>1</td>\n",
       "      <td>3</td>\n",
       "      <td>3</td>\n",
       "      <td>12</td>\n",
       "      <td>21.0</td>\n",
       "      <td>No</td>\n",
       "    </tr>\n",
       "    <tr>\n",
       "      <th>3</th>\n",
       "      <td>2254736</td>\n",
       "      <td>1</td>\n",
       "      <td>4</td>\n",
       "      <td>4</td>\n",
       "      <td>7</td>\n",
       "      <td>29.0</td>\n",
       "      <td>No</td>\n",
       "    </tr>\n",
       "    <tr>\n",
       "      <th>4</th>\n",
       "      <td>431534</td>\n",
       "      <td>1</td>\n",
       "      <td>5</td>\n",
       "      <td>4</td>\n",
       "      <td>15</td>\n",
       "      <td>28.0</td>\n",
       "      <td>No</td>\n",
       "    </tr>\n",
       "  </tbody>\n",
       "</table>\n",
       "</div>"
      ],
      "text/plain": [
       "   order_id  user_id  order_number  orders_day_of_week  order_hour_of_day  \\\n",
       "0   2539329        1             1                   2                  8   \n",
       "1   2398795        1             2                   3                  7   \n",
       "2    473747        1             3                   3                 12   \n",
       "3   2254736        1             4                   4                  7   \n",
       "4    431534        1             5                   4                 15   \n",
       "\n",
       "   days_since_prior_order first_order  \n",
       "0                     NaN         Yes  \n",
       "1                    15.0          No  \n",
       "2                    21.0          No  \n",
       "3                    29.0          No  \n",
       "4                    28.0          No  "
      ]
     },
     "execution_count": 9,
     "metadata": {},
     "output_type": "execute_result"
    }
   ],
   "source": [
    "df_ords_prep.head()"
   ]
  },
  {
   "cell_type": "code",
   "execution_count": 10,
   "id": "641d4aa6-34a4-4489-ac8e-93428810e71d",
   "metadata": {},
   "outputs": [
    {
     "data": {
      "text/plain": [
       "(32434489, 4)"
      ]
     },
     "execution_count": 10,
     "metadata": {},
     "output_type": "execute_result"
    }
   ],
   "source": [
    "# Checking dimensions\n",
    "df_ords_prior.shape"
   ]
  },
  {
   "cell_type": "code",
   "execution_count": 11,
   "id": "46758ed2-bcae-415c-8742-78cb80b32749",
   "metadata": {},
   "outputs": [
    {
     "data": {
      "text/plain": [
       "(3421083, 7)"
      ]
     },
     "execution_count": 11,
     "metadata": {},
     "output_type": "execute_result"
    }
   ],
   "source": [
    "df_ords_prep.shape"
   ]
  },
  {
   "cell_type": "markdown",
   "id": "cf8e9098-5b28-48de-bb71-5388aa054e05",
   "metadata": {},
   "source": [
    "# Task 4.6"
   ]
  },
  {
   "cell_type": "markdown",
   "id": "c4413e11-05d9-4e8a-b6f2-a3476a24fb41",
   "metadata": {},
   "source": [
    "#### Step No. 1: Merging my prepared Instacart orders data with the new 'orders_products_prior'"
   ]
  },
  {
   "cell_type": "markdown",
   "id": "4662f683-ed85-4a77-b1bc-350c0d0e971e",
   "metadata": {},
   "source": [
    "#### Merging both dataframes 'df_ords_prior' and 'df_ords_prepared' via the 'order_id' column"
   ]
  },
  {
   "cell_type": "code",
   "execution_count": 12,
   "id": "640a3720-e948-48f1-b2b7-9ffb8ceddd7d",
   "metadata": {},
   "outputs": [],
   "source": [
    "# Since the data sets (df_merged_large and df_ords_prep) have different lengths, concatenating them is not an option. Therefore, I'm merging them.\n",
    "# Key column: 'order_id'.\n",
    "# Type of join: inner. The resulting data set should only contain observations included in both input data sets.\n",
    "df_merged_large = df_ords_prep.merge(df_ords_prior, on = 'order_id', how = 'inner', indicator = True)"
   ]
  },
  {
   "cell_type": "markdown",
   "id": "00c527dc-e90b-4519-8c2e-a7133559cd42",
   "metadata": {},
   "source": [
    "#### Explaining the code"
   ]
  },
  {
   "cell_type": "code",
   "execution_count": 13,
   "id": "efc391c8-08ee-48c8-9a2f-74e1c8beda9c",
   "metadata": {},
   "outputs": [],
   "source": [
    "# 'df_merged_large' stores the result of the merge.\n",
    "\n",
    "# 'df_ords_prep.merge()' merges the first dataframe (df_ords_prep) with the second dataframe (df_ords_prior).\n",
    "\n",
    "# on = 'order_id' specifies that the key column (the one that both data sets share) is 'order_id'.\n",
    "\n",
    "# how = 'inner' indicates an inner join, meaning only rows with matching order_id values in both dataframes will be included.\n",
    "\n",
    "# 'indicator = True' adds a new column named '_merge' (this is the name by default) that shows the origin of each row in the merged dataframe."
   ]
  },
  {
   "cell_type": "code",
   "execution_count": 14,
   "id": "7df61790-b901-4f05-b73e-20f3df1ed81d",
   "metadata": {},
   "outputs": [
    {
     "data": {
      "text/plain": [
       "_merge\n",
       "both          32434489\n",
       "left_only            0\n",
       "right_only           0\n",
       "Name: count, dtype: int64"
      ]
     },
     "execution_count": 14,
     "metadata": {},
     "output_type": "execute_result"
    }
   ],
   "source": [
    "df_merged_large['_merge'].value_counts()"
   ]
  },
  {
   "cell_type": "markdown",
   "id": "c1276a24-b23d-43ec-bdbf-f1e0002c0a4d",
   "metadata": {},
   "source": [
    "#### Explaining the counts"
   ]
  },
  {
   "cell_type": "code",
   "execution_count": 15,
   "id": "48e257a8-93a3-4733-baa7-b92240b13833",
   "metadata": {},
   "outputs": [],
   "source": [
    "# The _merge column reports the merge status for each row.\n",
    "\n",
    "# The value 'both' means that the row was present in both dataframes.\n",
    "\n",
    "# The result shows all rows (32,434,489) are labeled 'both', while 'left_only' and 'right_only' are 0. \n",
    "# This suggests that only matching records were kept, as expected in an inner join.\n",
    "\n",
    "# However, this doesn't confirm whether all rows from both dataframes were matched, because an inner join only returns common values. \n",
    "# To confirm if any rows were unmatched, an outer join is needed, as shown below."
   ]
  },
  {
   "cell_type": "code",
   "execution_count": 16,
   "id": "0189dca7-8caf-43c9-8c88-bd5184e4af1d",
   "metadata": {},
   "outputs": [
    {
     "name": "stderr",
     "output_type": "stream",
     "text": [
      "\n",
      "KeyboardInterrupt\n",
      "\n"
     ]
    }
   ],
   "source": [
    "df_merged_large_out = df_ords_prep.merge(df_ords_prior, on = 'order_id', how='outer', indicator = True)"
   ]
  },
  {
   "cell_type": "code",
   "execution_count": null,
   "id": "10ce9fd6-efae-455a-bc32-070335c7c416",
   "metadata": {},
   "outputs": [],
   "source": [
    "df_merged_large_out['_merge'].value_counts()"
   ]
  },
  {
   "cell_type": "markdown",
   "id": "b78e2924-9536-47dd-b8ef-586856ca6d2b",
   "metadata": {},
   "source": [
    "#### Differences between 'outer' join and 'inner' join"
   ]
  },
  {
   "cell_type": "code",
   "execution_count": null,
   "id": "8b4820fb-2e51-463a-b7a0-f32778e16c3d",
   "metadata": {},
   "outputs": [],
   "source": [
    "# In df_ords_prep, each order_id appears once (because it represents a summary of an order).\n",
    "\n",
    "# In df_ords_prior, each order_id can appear multiple times (once per product in the order)."
   ]
  },
  {
   "cell_type": "markdown",
   "id": "46f15faf-6d71-4729-9021-056a61acee9c",
   "metadata": {},
   "source": [
    "#### What happened after the merge?"
   ]
  },
  {
   "cell_type": "code",
   "execution_count": null,
   "id": "f1659d88-adf2-40c2-87e1-0bc18f7003e7",
   "metadata": {},
   "outputs": [],
   "source": [
    "# After the merge, the resulting dataframe will include rows of df_ords_prep duplicated multiple times \n",
    "# (once for each matching order_id column from df_ords_prior). \n",
    "\n",
    "# This explains why the new dataframe will have more rows than either original dataframe."
   ]
  },
  {
   "cell_type": "markdown",
   "id": "573127c4-51ca-4882-9bf8-1faed7c47c41",
   "metadata": {},
   "source": [
    "#### What do left_only = 206,209 mean?"
   ]
  },
  {
   "cell_type": "code",
   "execution_count": null,
   "id": "562e3f8f-df6e-4074-bdaf-fab9f29dbb55",
   "metadata": {},
   "outputs": [],
   "source": [
    "# It means that 206,209 rows exist in the df_ords_prep dataframe only "
   ]
  },
  {
   "cell_type": "markdown",
   "id": "26e562c1-9fdb-4805-9bb2-b0364bd5912c",
   "metadata": {},
   "source": [
    "### Possible causes/explanations?"
   ]
  },
  {
   "cell_type": "code",
   "execution_count": null,
   "id": "dfee8fa5-3c38-41cd-8cca-c2b093bb4bed",
   "metadata": {},
   "outputs": [],
   "source": [
    "# Those orders were not included in the df_ords_prior dataframe. In other words, we have order information that doesn't have \n",
    "# the product details for several orders\n",
    "\n",
    "# Missing values (df_ords_prior does not have null values. So, this is not the case here) \n",
    "# Mismatched IDs"
   ]
  },
  {
   "cell_type": "code",
   "execution_count": null,
   "id": "ddacda6e-1b9d-41e2-ace9-5c2a9c4f6351",
   "metadata": {},
   "outputs": [],
   "source": [
    "df_merged_large.head()"
   ]
  },
  {
   "cell_type": "markdown",
   "id": "e352904e-57eb-41c0-bfda-71d0eaa569f3",
   "metadata": {},
   "source": [
    "#### Checking the size of df_merged_large"
   ]
  },
  {
   "cell_type": "code",
   "execution_count": null,
   "id": "c890a82a-0506-4dac-8655-50e6c923256e",
   "metadata": {},
   "outputs": [],
   "source": [
    "df_merged_large.shape"
   ]
  },
  {
   "cell_type": "markdown",
   "id": "f3835b0f-03df-4db4-a581-3b0ef0c8a550",
   "metadata": {},
   "source": [
    "#### Step No. 2: Export the merged file in pickle format as “orders_products_combined.pkl”."
   ]
  },
  {
   "cell_type": "code",
   "execution_count": null,
   "id": "a35a5704-29e3-4215-8788-196a03a3f0c9",
   "metadata": {},
   "outputs": [],
   "source": [
    "df_merged_large.to_pickle(os.path.join(path, '02 Data','Prepared Data', 'orders_products_combined.pkl'))"
   ]
  },
  {
   "cell_type": "markdown",
   "id": "c718dd41-4b82-4006-8c23-37b519ebbcaf",
   "metadata": {},
   "source": [
    "#### Step No. 3: In a new notebook, import the orders_products_combined dataframe from the pickle file you just saved."
   ]
  },
  {
   "cell_type": "code",
   "execution_count": null,
   "id": "2b063f45-cb9d-4f65-bb7f-c52d54583463",
   "metadata": {},
   "outputs": [],
   "source": [
    "# The rest of the task is in the 'Exercise 4.6_Part II' notebook"
   ]
  }
 ],
 "metadata": {
  "kernelspec": {
   "display_name": "Python 3 (ipykernel)",
   "language": "python",
   "name": "python3"
  },
  "language_info": {
   "codemirror_mode": {
    "name": "ipython",
    "version": 3
   },
   "file_extension": ".py",
   "mimetype": "text/x-python",
   "name": "python",
   "nbconvert_exporter": "python",
   "pygments_lexer": "ipython3",
   "version": "3.12.7"
  }
 },
 "nbformat": 4,
 "nbformat_minor": 5
}
