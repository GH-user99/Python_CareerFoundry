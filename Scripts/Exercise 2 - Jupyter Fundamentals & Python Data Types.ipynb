{
 "cells": [
  {
   "cell_type": "markdown",
   "id": "81d2e8e3-6dd5-465e-9d7f-1972f441be48",
   "metadata": {},
   "source": [
    "#01. Importing libraries"
   ]
  },
  {
   "cell_type": "code",
   "execution_count": 1,
   "id": "011fdfb9-7822-44f4-b40a-1c29cf8fc8ed",
   "metadata": {},
   "outputs": [],
   "source": [
    "# Import libraries\n",
    "import pandas as pd\n",
    "import numpy as np\n",
    "import os"
   ]
  },
  {
   "cell_type": "markdown",
   "id": "7a4f25e3-cdfd-4f4f-ba15-9ea852446bbf",
   "metadata": {},
   "source": [
    "# Playing around with data types"
   ]
  },
  {
   "cell_type": "code",
   "execution_count": 3,
   "id": "453d9870-2b57-43bc-84e9-443395b8de8a",
   "metadata": {},
   "outputs": [
    {
     "name": "stdout",
     "output_type": "stream",
     "text": [
      "100\n",
      "100\n",
      "100\n"
     ]
    }
   ],
   "source": [
    "# 3 different ways of reaching a result of 100\n",
    "a = 50\n",
    "b = 50\n",
    "c = 150\n",
    "d = 25\n",
    "\n",
    "#1\n",
    "print(a + b)\n",
    "\n",
    "#2\n",
    "print(c - b)\n",
    "\n",
    "#3\n",
    "print(c - (d + d))"
   ]
  },
  {
   "cell_type": "code",
   "execution_count": 5,
   "id": "52cd7407-ca6e-4e31-923a-b9b7c902799e",
   "metadata": {},
   "outputs": [
    {
     "name": "stdout",
     "output_type": "stream",
     "text": [
      "47.96477495107632\n"
     ]
    }
   ],
   "source": [
    "# Code 2 floating-point variables and divide them by each other.\n",
    "x = 25.55\n",
    "y = 1225.50\n",
    "\n",
    "print(y / x)"
   ]
  },
  {
   "cell_type": "code",
   "execution_count": 7,
   "id": "9d32d7d4-6c4a-41e6-85f6-cb5c52ef94a0",
   "metadata": {},
   "outputs": [
    {
     "name": "stdout",
     "output_type": "stream",
     "text": [
      "Hello\n"
     ]
    }
   ],
   "source": [
    "# Construct a short word made of separate strings (you’ll need to concatenate some strings!)\n",
    "\n",
    "a = 'H'\n",
    "b = 'e'\n",
    "c = 'l'\n",
    "d = 'o'\n",
    "\n",
    "print(a + b + c + c +d)"
   ]
  },
  {
   "cell_type": "code",
   "execution_count": 9,
   "id": "1a9e461d-7af7-46c8-b6ac-9b0059e841e9",
   "metadata": {},
   "outputs": [
    {
     "name": "stdout",
     "output_type": "stream",
     "text": [
      "This is Sparta!\n",
      "Eat healthy, dear folks.\n"
     ]
    }
   ],
   "source": [
    "# Construct 2 short sentences made of separate strings\n",
    "\n",
    "a = 'This '\n",
    "b = 'is '\n",
    "c = 'Sparta!'\n",
    "\n",
    "d = 'Eat '\n",
    "e = 'healthy, '\n",
    "f = 'dear '\n",
    "g = 'folks.'\n",
    "\n",
    "print(a + b + c)\n",
    "print(d + e + f + g)"
   ]
  }
 ],
 "metadata": {
  "kernelspec": {
   "display_name": "Python [conda env:base] *",
   "language": "python",
   "name": "conda-base-py"
  },
  "language_info": {
   "codemirror_mode": {
    "name": "ipython",
    "version": 3
   },
   "file_extension": ".py",
   "mimetype": "text/x-python",
   "name": "python",
   "nbconvert_exporter": "python",
   "pygments_lexer": "ipython3",
   "version": "3.12.7"
  }
 },
 "nbformat": 4,
 "nbformat_minor": 5
}
