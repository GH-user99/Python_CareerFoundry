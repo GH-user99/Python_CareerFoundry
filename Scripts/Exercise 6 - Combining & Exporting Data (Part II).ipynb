{
 "cells": [
  {
   "cell_type": "markdown",
   "id": "1792897a-496a-4ed7-8d34-8b8b46ab9fc6",
   "metadata": {},
   "source": [
    "# Task 4.6 (steps 3 - 7)"
   ]
  },
  {
   "cell_type": "markdown",
   "id": "8434bf33-3401-412d-9aa7-743da2cb375f",
   "metadata": {},
   "source": [
    "#### Importing libraries and dataframes"
   ]
  },
  {
   "cell_type": "code",
   "execution_count": 3,
   "id": "06f150a8-ba6c-4740-8715-7ea58d5df484",
   "metadata": {},
   "outputs": [],
   "source": [
    "# Importing libraries\n",
    "import pandas as pd\n",
    "import numpy as np\n",
    "import os"
   ]
  },
  {
   "cell_type": "markdown",
   "id": "b47e4f0c-f634-49a4-bba2-2b78e56ecff9",
   "metadata": {},
   "source": [
    "#### Step No. 3: In a new notebook, import the orders_products_combined dataframe from the pickle file you just saved."
   ]
  },
  {
   "cell_type": "code",
   "execution_count": 5,
   "id": "ed65c78e-d1ee-491b-8141-8985fd35cc29",
   "metadata": {},
   "outputs": [],
   "source": [
    "# Importing 'orders_products_combined' from the 'Prepared data' folder\n",
    "path = r'C:\\Users\\andd0\\Documents\\InstaCart Basket Analysis'"
   ]
  },
  {
   "cell_type": "code",
   "execution_count": 6,
   "id": "8e6e5fd1-26ee-4faa-b6c4-59cf7b806461",
   "metadata": {},
   "outputs": [],
   "source": [
    "orders_products_combined = pd.read_pickle(os.path.join(path, '02 Data', 'Prepared Data', 'orders_products_combined.pkl'))"
   ]
  },
  {
   "cell_type": "code",
   "execution_count": 7,
   "id": "ca3ea403-d31d-4940-aa6b-2ea2dfba77c1",
   "metadata": {},
   "outputs": [],
   "source": [
    "df_prods_prepared = pd.read_csv(os.path.join(path, '02 Data', 'Prepared Data', 'prods__wrangled_Ex4_5.csv'), index_col = False)"
   ]
  },
  {
   "cell_type": "markdown",
   "id": "7ae65550-b1b9-4e6f-b7ad-f77a51ef1cf9",
   "metadata": {},
   "source": [
    "#### Step No. 4: Check the shape of the imported dataframe (it should be the same as the one you exported—always check!)."
   ]
  },
  {
   "cell_type": "code",
   "execution_count": 9,
   "id": "01ebc2ff-190b-4bb1-a5ed-905619b37f00",
   "metadata": {},
   "outputs": [
    {
     "data": {
      "text/plain": [
       "(32434489, 11)"
      ]
     },
     "execution_count": 9,
     "metadata": {},
     "output_type": "execute_result"
    }
   ],
   "source": [
    "orders_products_combined.shape"
   ]
  },
  {
   "cell_type": "code",
   "execution_count": 10,
   "id": "357ca401-251f-43ce-a48f-bd9de43b7bdf",
   "metadata": {},
   "outputs": [],
   "source": [
    "# Same number of rows: 32,434,489"
   ]
  },
  {
   "cell_type": "markdown",
   "id": "934b5fa6-c3ee-4748-b277-3096419c0c11",
   "metadata": {},
   "source": [
    "#### Step No. 5: Determine a suitable way to combine the orders_products_combined dataframe with your products data set."
   ]
  },
  {
   "cell_type": "code",
   "execution_count": 12,
   "id": "15c90041-5829-4232-a778-e73fc0e74c9f",
   "metadata": {},
   "outputs": [
    {
     "data": {
      "text/html": [
       "<div>\n",
       "<style scoped>\n",
       "    .dataframe tbody tr th:only-of-type {\n",
       "        vertical-align: middle;\n",
       "    }\n",
       "\n",
       "    .dataframe tbody tr th {\n",
       "        vertical-align: top;\n",
       "    }\n",
       "\n",
       "    .dataframe thead th {\n",
       "        text-align: right;\n",
       "    }\n",
       "</style>\n",
       "<table border=\"1\" class=\"dataframe\">\n",
       "  <thead>\n",
       "    <tr style=\"text-align: right;\">\n",
       "      <th></th>\n",
       "      <th>order_id</th>\n",
       "      <th>user_id</th>\n",
       "      <th>order_number</th>\n",
       "      <th>orders_day_of_week</th>\n",
       "      <th>order_hour_of_day</th>\n",
       "      <th>days_since_prior_order</th>\n",
       "      <th>first_order</th>\n",
       "      <th>product_id</th>\n",
       "      <th>add_to_cart_order</th>\n",
       "      <th>reordered</th>\n",
       "      <th>_merge</th>\n",
       "    </tr>\n",
       "  </thead>\n",
       "  <tbody>\n",
       "    <tr>\n",
       "      <th>0</th>\n",
       "      <td>2539329</td>\n",
       "      <td>1</td>\n",
       "      <td>1</td>\n",
       "      <td>2</td>\n",
       "      <td>8</td>\n",
       "      <td>NaN</td>\n",
       "      <td>Yes</td>\n",
       "      <td>196</td>\n",
       "      <td>1</td>\n",
       "      <td>0</td>\n",
       "      <td>both</td>\n",
       "    </tr>\n",
       "    <tr>\n",
       "      <th>1</th>\n",
       "      <td>2539329</td>\n",
       "      <td>1</td>\n",
       "      <td>1</td>\n",
       "      <td>2</td>\n",
       "      <td>8</td>\n",
       "      <td>NaN</td>\n",
       "      <td>Yes</td>\n",
       "      <td>14084</td>\n",
       "      <td>2</td>\n",
       "      <td>0</td>\n",
       "      <td>both</td>\n",
       "    </tr>\n",
       "    <tr>\n",
       "      <th>2</th>\n",
       "      <td>2539329</td>\n",
       "      <td>1</td>\n",
       "      <td>1</td>\n",
       "      <td>2</td>\n",
       "      <td>8</td>\n",
       "      <td>NaN</td>\n",
       "      <td>Yes</td>\n",
       "      <td>12427</td>\n",
       "      <td>3</td>\n",
       "      <td>0</td>\n",
       "      <td>both</td>\n",
       "    </tr>\n",
       "    <tr>\n",
       "      <th>3</th>\n",
       "      <td>2539329</td>\n",
       "      <td>1</td>\n",
       "      <td>1</td>\n",
       "      <td>2</td>\n",
       "      <td>8</td>\n",
       "      <td>NaN</td>\n",
       "      <td>Yes</td>\n",
       "      <td>26088</td>\n",
       "      <td>4</td>\n",
       "      <td>0</td>\n",
       "      <td>both</td>\n",
       "    </tr>\n",
       "    <tr>\n",
       "      <th>4</th>\n",
       "      <td>2539329</td>\n",
       "      <td>1</td>\n",
       "      <td>1</td>\n",
       "      <td>2</td>\n",
       "      <td>8</td>\n",
       "      <td>NaN</td>\n",
       "      <td>Yes</td>\n",
       "      <td>26405</td>\n",
       "      <td>5</td>\n",
       "      <td>0</td>\n",
       "      <td>both</td>\n",
       "    </tr>\n",
       "  </tbody>\n",
       "</table>\n",
       "</div>"
      ],
      "text/plain": [
       "   order_id  user_id  order_number  orders_day_of_week  order_hour_of_day  \\\n",
       "0   2539329        1             1                   2                  8   \n",
       "1   2539329        1             1                   2                  8   \n",
       "2   2539329        1             1                   2                  8   \n",
       "3   2539329        1             1                   2                  8   \n",
       "4   2539329        1             1                   2                  8   \n",
       "\n",
       "   days_since_prior_order first_order  product_id  add_to_cart_order  \\\n",
       "0                     NaN         Yes         196                  1   \n",
       "1                     NaN         Yes       14084                  2   \n",
       "2                     NaN         Yes       12427                  3   \n",
       "3                     NaN         Yes       26088                  4   \n",
       "4                     NaN         Yes       26405                  5   \n",
       "\n",
       "   reordered _merge  \n",
       "0          0   both  \n",
       "1          0   both  \n",
       "2          0   both  \n",
       "3          0   both  \n",
       "4          0   both  "
      ]
     },
     "execution_count": 12,
     "metadata": {},
     "output_type": "execute_result"
    }
   ],
   "source": [
    "# Make sure you’re using your wrangled, cleaned, and deduped products data set stored in your “Prepared Data” folder from the previous Exercise’s task.\n",
    "orders_products_combined.head()"
   ]
  },
  {
   "cell_type": "code",
   "execution_count": 13,
   "id": "c489a688-38d2-4695-81af-b8cc21c4b072",
   "metadata": {},
   "outputs": [],
   "source": [
    "# Dropping some columns I won't need\n",
    "df_prods_prep = df_prods_prepared.drop(columns = ['Unnamed: 0'])"
   ]
  },
  {
   "cell_type": "code",
   "execution_count": 14,
   "id": "2462a250-c6d0-479e-8dee-4d85a0dc151b",
   "metadata": {},
   "outputs": [
    {
     "data": {
      "text/html": [
       "<div>\n",
       "<style scoped>\n",
       "    .dataframe tbody tr th:only-of-type {\n",
       "        vertical-align: middle;\n",
       "    }\n",
       "\n",
       "    .dataframe tbody tr th {\n",
       "        vertical-align: top;\n",
       "    }\n",
       "\n",
       "    .dataframe thead th {\n",
       "        text-align: right;\n",
       "    }\n",
       "</style>\n",
       "<table border=\"1\" class=\"dataframe\">\n",
       "  <thead>\n",
       "    <tr style=\"text-align: right;\">\n",
       "      <th></th>\n",
       "      <th>product_id</th>\n",
       "      <th>product_name</th>\n",
       "      <th>aisle_id</th>\n",
       "      <th>department_id</th>\n",
       "      <th>prices</th>\n",
       "    </tr>\n",
       "  </thead>\n",
       "  <tbody>\n",
       "    <tr>\n",
       "      <th>0</th>\n",
       "      <td>1</td>\n",
       "      <td>Chocolate Sandwich Cookies</td>\n",
       "      <td>61</td>\n",
       "      <td>19</td>\n",
       "      <td>5.8</td>\n",
       "    </tr>\n",
       "    <tr>\n",
       "      <th>1</th>\n",
       "      <td>2</td>\n",
       "      <td>All-Seasons Salt</td>\n",
       "      <td>104</td>\n",
       "      <td>13</td>\n",
       "      <td>9.3</td>\n",
       "    </tr>\n",
       "    <tr>\n",
       "      <th>2</th>\n",
       "      <td>3</td>\n",
       "      <td>Robust Golden Unsweetened Oolong Tea</td>\n",
       "      <td>94</td>\n",
       "      <td>7</td>\n",
       "      <td>4.5</td>\n",
       "    </tr>\n",
       "    <tr>\n",
       "      <th>3</th>\n",
       "      <td>4</td>\n",
       "      <td>Smart Ones Classic Favorites Mini Rigatoni Wit...</td>\n",
       "      <td>38</td>\n",
       "      <td>1</td>\n",
       "      <td>10.5</td>\n",
       "    </tr>\n",
       "    <tr>\n",
       "      <th>4</th>\n",
       "      <td>5</td>\n",
       "      <td>Green Chile Anytime Sauce</td>\n",
       "      <td>5</td>\n",
       "      <td>13</td>\n",
       "      <td>4.3</td>\n",
       "    </tr>\n",
       "  </tbody>\n",
       "</table>\n",
       "</div>"
      ],
      "text/plain": [
       "   product_id                                       product_name  aisle_id  \\\n",
       "0           1                         Chocolate Sandwich Cookies        61   \n",
       "1           2                                   All-Seasons Salt       104   \n",
       "2           3               Robust Golden Unsweetened Oolong Tea        94   \n",
       "3           4  Smart Ones Classic Favorites Mini Rigatoni Wit...        38   \n",
       "4           5                          Green Chile Anytime Sauce         5   \n",
       "\n",
       "   department_id  prices  \n",
       "0             19     5.8  \n",
       "1             13     9.3  \n",
       "2              7     4.5  \n",
       "3              1    10.5  \n",
       "4             13     4.3  "
      ]
     },
     "execution_count": 14,
     "metadata": {},
     "output_type": "execute_result"
    }
   ],
   "source": [
    "df_prods_prep.head()"
   ]
  },
  {
   "cell_type": "code",
   "execution_count": 15,
   "id": "0e2ef7da-0e9a-4ff2-8e15-e05f7124d66b",
   "metadata": {},
   "outputs": [],
   "source": [
    "df_merged_large = df_prods_prep.merge(orders_products_combined, on = 'product_id', how = 'inner', indicator = 'merge_status')"
   ]
  },
  {
   "cell_type": "code",
   "execution_count": 16,
   "id": "311c37a5-219d-413f-9c9b-089ae8f1130c",
   "metadata": {},
   "outputs": [],
   "source": [
    "# I was getting this error \"ValueError: Cannot use name of an existing column for indicator column\"\n",
    "# Cause the '_merge' column already exists\n",
    "# Solution: create a custom name: 'merge_status'"
   ]
  },
  {
   "cell_type": "markdown",
   "id": "8829d363-4afc-4f4a-85f0-211ad524dc42",
   "metadata": {},
   "source": [
    "#### Step No. 6: Confirm the results of the merge using the merge flag."
   ]
  },
  {
   "cell_type": "code",
   "execution_count": 18,
   "id": "97da15dc-4710-425e-ac03-2ab9ac8740f5",
   "metadata": {},
   "outputs": [
    {
     "data": {
      "text/plain": [
       "merge_status\n",
       "both          32434212\n",
       "left_only            0\n",
       "right_only           0\n",
       "Name: count, dtype: int64"
      ]
     },
     "execution_count": 18,
     "metadata": {},
     "output_type": "execute_result"
    }
   ],
   "source": [
    "df_merged_large['merge_status'].value_counts()"
   ]
  },
  {
   "cell_type": "markdown",
   "id": "6620e550-6e52-477d-8d06-54b6f960126a",
   "metadata": {},
   "source": [
    "#### Testing with outer"
   ]
  },
  {
   "cell_type": "code",
   "execution_count": 20,
   "id": "fa074c2a-1421-47a6-8a03-56a71caa1137",
   "metadata": {},
   "outputs": [],
   "source": [
    "df_merged_large_outer = df_prods_prep.merge(orders_products_combined, on = 'product_id', how = 'outer', indicator = 'merge_status')"
   ]
  },
  {
   "cell_type": "code",
   "execution_count": 21,
   "id": "e48ceaf1-be49-4464-b211-89e0e534674e",
   "metadata": {
    "scrolled": true
   },
   "outputs": [
    {
     "data": {
      "text/html": [
       "<div>\n",
       "<style scoped>\n",
       "    .dataframe tbody tr th:only-of-type {\n",
       "        vertical-align: middle;\n",
       "    }\n",
       "\n",
       "    .dataframe tbody tr th {\n",
       "        vertical-align: top;\n",
       "    }\n",
       "\n",
       "    .dataframe thead th {\n",
       "        text-align: right;\n",
       "    }\n",
       "</style>\n",
       "<table border=\"1\" class=\"dataframe\">\n",
       "  <thead>\n",
       "    <tr style=\"text-align: right;\">\n",
       "      <th></th>\n",
       "      <th>product_id</th>\n",
       "      <th>product_name</th>\n",
       "      <th>aisle_id</th>\n",
       "      <th>department_id</th>\n",
       "      <th>prices</th>\n",
       "      <th>order_id</th>\n",
       "      <th>user_id</th>\n",
       "      <th>order_number</th>\n",
       "      <th>orders_day_of_week</th>\n",
       "      <th>order_hour_of_day</th>\n",
       "      <th>days_since_prior_order</th>\n",
       "      <th>first_order</th>\n",
       "      <th>add_to_cart_order</th>\n",
       "      <th>reordered</th>\n",
       "      <th>_merge</th>\n",
       "      <th>merge_status</th>\n",
       "    </tr>\n",
       "  </thead>\n",
       "  <tbody>\n",
       "    <tr>\n",
       "      <th>0</th>\n",
       "      <td>1</td>\n",
       "      <td>Chocolate Sandwich Cookies</td>\n",
       "      <td>61.0</td>\n",
       "      <td>19.0</td>\n",
       "      <td>5.8</td>\n",
       "      <td>3139998.0</td>\n",
       "      <td>138.0</td>\n",
       "      <td>28.0</td>\n",
       "      <td>6.0</td>\n",
       "      <td>11.0</td>\n",
       "      <td>3.0</td>\n",
       "      <td>No</td>\n",
       "      <td>5.0</td>\n",
       "      <td>0.0</td>\n",
       "      <td>both</td>\n",
       "      <td>both</td>\n",
       "    </tr>\n",
       "    <tr>\n",
       "      <th>1</th>\n",
       "      <td>1</td>\n",
       "      <td>Chocolate Sandwich Cookies</td>\n",
       "      <td>61.0</td>\n",
       "      <td>19.0</td>\n",
       "      <td>5.8</td>\n",
       "      <td>1977647.0</td>\n",
       "      <td>138.0</td>\n",
       "      <td>30.0</td>\n",
       "      <td>6.0</td>\n",
       "      <td>17.0</td>\n",
       "      <td>20.0</td>\n",
       "      <td>No</td>\n",
       "      <td>1.0</td>\n",
       "      <td>1.0</td>\n",
       "      <td>both</td>\n",
       "      <td>both</td>\n",
       "    </tr>\n",
       "    <tr>\n",
       "      <th>2</th>\n",
       "      <td>1</td>\n",
       "      <td>Chocolate Sandwich Cookies</td>\n",
       "      <td>61.0</td>\n",
       "      <td>19.0</td>\n",
       "      <td>5.8</td>\n",
       "      <td>389851.0</td>\n",
       "      <td>709.0</td>\n",
       "      <td>2.0</td>\n",
       "      <td>0.0</td>\n",
       "      <td>21.0</td>\n",
       "      <td>6.0</td>\n",
       "      <td>No</td>\n",
       "      <td>20.0</td>\n",
       "      <td>0.0</td>\n",
       "      <td>both</td>\n",
       "      <td>both</td>\n",
       "    </tr>\n",
       "    <tr>\n",
       "      <th>3</th>\n",
       "      <td>1</td>\n",
       "      <td>Chocolate Sandwich Cookies</td>\n",
       "      <td>61.0</td>\n",
       "      <td>19.0</td>\n",
       "      <td>5.8</td>\n",
       "      <td>652770.0</td>\n",
       "      <td>764.0</td>\n",
       "      <td>1.0</td>\n",
       "      <td>3.0</td>\n",
       "      <td>13.0</td>\n",
       "      <td>NaN</td>\n",
       "      <td>Yes</td>\n",
       "      <td>10.0</td>\n",
       "      <td>0.0</td>\n",
       "      <td>both</td>\n",
       "      <td>both</td>\n",
       "    </tr>\n",
       "    <tr>\n",
       "      <th>4</th>\n",
       "      <td>1</td>\n",
       "      <td>Chocolate Sandwich Cookies</td>\n",
       "      <td>61.0</td>\n",
       "      <td>19.0</td>\n",
       "      <td>5.8</td>\n",
       "      <td>1813452.0</td>\n",
       "      <td>764.0</td>\n",
       "      <td>3.0</td>\n",
       "      <td>4.0</td>\n",
       "      <td>17.0</td>\n",
       "      <td>9.0</td>\n",
       "      <td>No</td>\n",
       "      <td>11.0</td>\n",
       "      <td>1.0</td>\n",
       "      <td>both</td>\n",
       "      <td>both</td>\n",
       "    </tr>\n",
       "  </tbody>\n",
       "</table>\n",
       "</div>"
      ],
      "text/plain": [
       "   product_id                product_name  aisle_id  department_id  prices  \\\n",
       "0           1  Chocolate Sandwich Cookies      61.0           19.0     5.8   \n",
       "1           1  Chocolate Sandwich Cookies      61.0           19.0     5.8   \n",
       "2           1  Chocolate Sandwich Cookies      61.0           19.0     5.8   \n",
       "3           1  Chocolate Sandwich Cookies      61.0           19.0     5.8   \n",
       "4           1  Chocolate Sandwich Cookies      61.0           19.0     5.8   \n",
       "\n",
       "    order_id  user_id  order_number  orders_day_of_week  order_hour_of_day  \\\n",
       "0  3139998.0    138.0          28.0                 6.0               11.0   \n",
       "1  1977647.0    138.0          30.0                 6.0               17.0   \n",
       "2   389851.0    709.0           2.0                 0.0               21.0   \n",
       "3   652770.0    764.0           1.0                 3.0               13.0   \n",
       "4  1813452.0    764.0           3.0                 4.0               17.0   \n",
       "\n",
       "   days_since_prior_order first_order  add_to_cart_order  reordered _merge  \\\n",
       "0                     3.0          No                5.0        0.0   both   \n",
       "1                    20.0          No                1.0        1.0   both   \n",
       "2                     6.0          No               20.0        0.0   both   \n",
       "3                     NaN         Yes               10.0        0.0   both   \n",
       "4                     9.0          No               11.0        1.0   both   \n",
       "\n",
       "  merge_status  \n",
       "0         both  \n",
       "1         both  \n",
       "2         both  \n",
       "3         both  \n",
       "4         both  "
      ]
     },
     "execution_count": 21,
     "metadata": {},
     "output_type": "execute_result"
    }
   ],
   "source": [
    "df_merged_large_outer.head()"
   ]
  },
  {
   "cell_type": "code",
   "execution_count": 22,
   "id": "e0c456df-46ff-4d86-ade4-d94fbbf46630",
   "metadata": {},
   "outputs": [
    {
     "data": {
      "text/plain": [
       "merge_status\n",
       "both          32434212\n",
       "right_only        2029\n",
       "left_only           11\n",
       "Name: count, dtype: int64"
      ]
     },
     "execution_count": 22,
     "metadata": {},
     "output_type": "execute_result"
    }
   ],
   "source": [
    "df_merged_large_outer['merge_status'].value_counts()"
   ]
  },
  {
   "cell_type": "markdown",
   "id": "b9324322-34c6-446b-b14f-7e8d9c9b542c",
   "metadata": {},
   "source": [
    "#### Differences between 'outer' join and 'inner' join"
   ]
  },
  {
   "cell_type": "code",
   "execution_count": 44,
   "id": "8c3926a7-a576-4a0f-b4d7-5d6662696b05",
   "metadata": {},
   "outputs": [],
   "source": [
    "# The product catalog (df_prods_prep) has one row per product, so product IDs are unique.\n",
    "# The order data (orders_products_combined) can have the same product ID many times, because customers can buy the same product in different orders."
   ]
  },
  {
   "cell_type": "markdown",
   "id": "baffb5c2-13e8-4d21-97f7-e6e7ff5f3b2e",
   "metadata": {},
   "source": [
    "#### What happened after the merge?"
   ]
  },
  {
   "cell_type": "code",
   "execution_count": 48,
   "id": "c0e20a5d-ad9d-4016-987f-4941ae8ecec7",
   "metadata": {},
   "outputs": [],
   "source": [
    "# When merging these dataframes, the resulting dataframe will include rows of df_prods_prep duplicated multiple times \n",
    "# (once for each matching product_id column from orders_products_combined)."
   ]
  },
  {
   "cell_type": "markdown",
   "id": "c6a37dd0-f066-49ec-b8c9-c4a4676a3c22",
   "metadata": {},
   "source": [
    "#### What do right_only = 2029 and left_only = 11 mean?"
   ]
  },
  {
   "cell_type": "code",
   "execution_count": 51,
   "id": "58dcf8cd-6f9b-4860-bdca-b7fd518ad2a1",
   "metadata": {},
   "outputs": [],
   "source": [
    "# This means there are 2029 rows in orders_products_combined that did not match any product_id in df_prods_prep\n",
    "# AND there are 11 products in df_prods_prep that never appear in any order in orders_products_combined."
   ]
  },
  {
   "cell_type": "markdown",
   "id": "3f5fa362-7e0e-4629-b743-7ba04bd15aa0",
   "metadata": {},
   "source": [
    "#### What could be the cause of this?"
   ]
  },
  {
   "cell_type": "code",
   "execution_count": 55,
   "id": "2aa0aaa2-ea90-47d1-bdf1-0dfa29009eca",
   "metadata": {},
   "outputs": [],
   "source": [
    "# Possible reasons:\n",
    "\n",
    "# These are new products that were added to the product catalog (df_prods_prep) but haven’t been purchased yet.\n",
    "\n",
    "# These are discontinued products that were removed from the order system (orders_products_combined) but still exist in the catalog.\n",
    "\n",
    "# Some product IDs may have changed / been updated, breaking the link between the two datasets."
   ]
  },
  {
   "cell_type": "markdown",
   "id": "1c8be65e-c9e8-40f8-a17d-6fd83d5fdfaf",
   "metadata": {},
   "source": [
    "#### Step No. 7: Export the newly created dataframe as ords_prods_merge in a suitable format (taking into consideration the size)."
   ]
  },
  {
   "cell_type": "code",
   "execution_count": 24,
   "id": "2eae5acc-bb87-459b-9d9f-63b0dd22b5dc",
   "metadata": {},
   "outputs": [],
   "source": [
    "df_merged_large.to_pickle(os.path.join(path, '02 Data','Prepared Data', 'ords_prods_merge.pkl'))"
   ]
  }
 ],
 "metadata": {
  "kernelspec": {
   "display_name": "Python 3 (ipykernel)",
   "language": "python",
   "name": "python3"
  },
  "language_info": {
   "codemirror_mode": {
    "name": "ipython",
    "version": 3
   },
   "file_extension": ".py",
   "mimetype": "text/x-python",
   "name": "python",
   "nbconvert_exporter": "python",
   "pygments_lexer": "ipython3",
   "version": "3.12.7"
  }
 },
 "nbformat": 4,
 "nbformat_minor": 5
}
