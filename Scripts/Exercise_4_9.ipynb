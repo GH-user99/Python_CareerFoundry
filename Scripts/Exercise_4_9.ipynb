{
 "cells": [
  {
   "cell_type": "markdown",
   "id": "401f6853-1f9d-449f-b0b8-da2eb18116b3",
   "metadata": {},
   "source": [
    "#### <b>Importing libraries</b>"
   ]
  },
  {
   "cell_type": "code",
   "execution_count": 2,
   "id": "e319dc68-a7de-48b3-8e16-e7264e2351b6",
   "metadata": {},
   "outputs": [],
   "source": [
    "import pandas as pd\n",
    "import numpy as np\n",
    "import os\n",
    "import matplotlib.pyplot as plt\n",
    "import seaborn as sns\n",
    "import scipy"
   ]
  },
  {
   "cell_type": "code",
   "execution_count": 3,
   "id": "0d151034-71c7-4dbc-bf25-f30e65abe21e",
   "metadata": {},
   "outputs": [],
   "source": [
    "# Importing 'orders_products_combined' from the 'Prepared data' folder\n",
    "\n",
    "path = r'C:\\Users\\andd0\\Documents\\InstaCart Basket Analysis'"
   ]
  },
  {
   "cell_type": "code",
   "execution_count": 4,
   "id": "877ae508-4e45-45ac-a50e-c0199e08402c",
   "metadata": {},
   "outputs": [],
   "source": [
    "# Importing the latest dataframe (exported in Exercise 4.8)\n",
    "\n",
    "merged_project_data = pd.read_pickle(os.path.join(path, '02 Data', 'Prepared Data', 'ords_prods_merge_Task_4_8.pkl'))"
   ]
  },
  {
   "cell_type": "code",
   "execution_count": 5,
   "id": "171ef278-3092-46a8-bcdf-734e3edbd814",
   "metadata": {},
   "outputs": [
    {
     "data": {
      "text/html": [
       "<div>\n",
       "<style scoped>\n",
       "    .dataframe tbody tr th:only-of-type {\n",
       "        vertical-align: middle;\n",
       "    }\n",
       "\n",
       "    .dataframe tbody tr th {\n",
       "        vertical-align: top;\n",
       "    }\n",
       "\n",
       "    .dataframe thead th {\n",
       "        text-align: right;\n",
       "    }\n",
       "</style>\n",
       "<table border=\"1\" class=\"dataframe\">\n",
       "  <thead>\n",
       "    <tr style=\"text-align: right;\">\n",
       "      <th></th>\n",
       "      <th>product_id</th>\n",
       "      <th>product_name</th>\n",
       "      <th>aisle_id</th>\n",
       "      <th>department_id</th>\n",
       "      <th>prices</th>\n",
       "      <th>order_id</th>\n",
       "      <th>user_id</th>\n",
       "      <th>order_number</th>\n",
       "      <th>orders_day_of_week</th>\n",
       "      <th>order_hour_of_day</th>\n",
       "      <th>...</th>\n",
       "      <th>price_range_loc</th>\n",
       "      <th>busiest_day</th>\n",
       "      <th>busiest_days</th>\n",
       "      <th>busiest_period_of_day</th>\n",
       "      <th>max_order</th>\n",
       "      <th>loyalty_flag</th>\n",
       "      <th>avg_spend_user</th>\n",
       "      <th>spending_flag</th>\n",
       "      <th>ord_regularity_median</th>\n",
       "      <th>frequency_flag</th>\n",
       "    </tr>\n",
       "  </thead>\n",
       "  <tbody>\n",
       "    <tr>\n",
       "      <th>0</th>\n",
       "      <td>1</td>\n",
       "      <td>Chocolate Sandwich Cookies</td>\n",
       "      <td>61</td>\n",
       "      <td>19</td>\n",
       "      <td>5.8</td>\n",
       "      <td>3139998</td>\n",
       "      <td>138</td>\n",
       "      <td>28</td>\n",
       "      <td>6</td>\n",
       "      <td>11</td>\n",
       "      <td>...</td>\n",
       "      <td>Mid-range product</td>\n",
       "      <td>Regularly busy</td>\n",
       "      <td>Regular days</td>\n",
       "      <td>Most orders</td>\n",
       "      <td>32</td>\n",
       "      <td>Regular customer</td>\n",
       "      <td>6.935811</td>\n",
       "      <td>Low spender</td>\n",
       "      <td>8.0</td>\n",
       "      <td>Frequent customer</td>\n",
       "    </tr>\n",
       "    <tr>\n",
       "      <th>1</th>\n",
       "      <td>1</td>\n",
       "      <td>Chocolate Sandwich Cookies</td>\n",
       "      <td>61</td>\n",
       "      <td>19</td>\n",
       "      <td>5.8</td>\n",
       "      <td>1977647</td>\n",
       "      <td>138</td>\n",
       "      <td>30</td>\n",
       "      <td>6</td>\n",
       "      <td>17</td>\n",
       "      <td>...</td>\n",
       "      <td>Mid-range product</td>\n",
       "      <td>Regularly busy</td>\n",
       "      <td>Regular days</td>\n",
       "      <td>Average orders</td>\n",
       "      <td>32</td>\n",
       "      <td>Regular customer</td>\n",
       "      <td>6.935811</td>\n",
       "      <td>Low spender</td>\n",
       "      <td>8.0</td>\n",
       "      <td>Frequent customer</td>\n",
       "    </tr>\n",
       "    <tr>\n",
       "      <th>2</th>\n",
       "      <td>1</td>\n",
       "      <td>Chocolate Sandwich Cookies</td>\n",
       "      <td>61</td>\n",
       "      <td>19</td>\n",
       "      <td>5.8</td>\n",
       "      <td>389851</td>\n",
       "      <td>709</td>\n",
       "      <td>2</td>\n",
       "      <td>0</td>\n",
       "      <td>21</td>\n",
       "      <td>...</td>\n",
       "      <td>Mid-range product</td>\n",
       "      <td>Busiest day</td>\n",
       "      <td>Busiest days</td>\n",
       "      <td>Average orders</td>\n",
       "      <td>5</td>\n",
       "      <td>New customer</td>\n",
       "      <td>7.930208</td>\n",
       "      <td>Low spender</td>\n",
       "      <td>8.0</td>\n",
       "      <td>Frequent customer</td>\n",
       "    </tr>\n",
       "    <tr>\n",
       "      <th>3</th>\n",
       "      <td>1</td>\n",
       "      <td>Chocolate Sandwich Cookies</td>\n",
       "      <td>61</td>\n",
       "      <td>19</td>\n",
       "      <td>5.8</td>\n",
       "      <td>652770</td>\n",
       "      <td>764</td>\n",
       "      <td>1</td>\n",
       "      <td>3</td>\n",
       "      <td>13</td>\n",
       "      <td>...</td>\n",
       "      <td>Mid-range product</td>\n",
       "      <td>Regularly busy</td>\n",
       "      <td>Slowest days</td>\n",
       "      <td>Most orders</td>\n",
       "      <td>3</td>\n",
       "      <td>New customer</td>\n",
       "      <td>4.972414</td>\n",
       "      <td>Low spender</td>\n",
       "      <td>9.0</td>\n",
       "      <td>Frequent customer</td>\n",
       "    </tr>\n",
       "    <tr>\n",
       "      <th>4</th>\n",
       "      <td>1</td>\n",
       "      <td>Chocolate Sandwich Cookies</td>\n",
       "      <td>61</td>\n",
       "      <td>19</td>\n",
       "      <td>5.8</td>\n",
       "      <td>1813452</td>\n",
       "      <td>764</td>\n",
       "      <td>3</td>\n",
       "      <td>4</td>\n",
       "      <td>17</td>\n",
       "      <td>...</td>\n",
       "      <td>Mid-range product</td>\n",
       "      <td>Least busy</td>\n",
       "      <td>Slowest days</td>\n",
       "      <td>Average orders</td>\n",
       "      <td>3</td>\n",
       "      <td>New customer</td>\n",
       "      <td>4.972414</td>\n",
       "      <td>Low spender</td>\n",
       "      <td>9.0</td>\n",
       "      <td>Frequent customer</td>\n",
       "    </tr>\n",
       "  </tbody>\n",
       "</table>\n",
       "<p>5 rows × 26 columns</p>\n",
       "</div>"
      ],
      "text/plain": [
       "   product_id                product_name  aisle_id  department_id  prices  \\\n",
       "0           1  Chocolate Sandwich Cookies        61             19     5.8   \n",
       "1           1  Chocolate Sandwich Cookies        61             19     5.8   \n",
       "2           1  Chocolate Sandwich Cookies        61             19     5.8   \n",
       "3           1  Chocolate Sandwich Cookies        61             19     5.8   \n",
       "4           1  Chocolate Sandwich Cookies        61             19     5.8   \n",
       "\n",
       "   order_id  user_id  order_number  orders_day_of_week  order_hour_of_day  \\\n",
       "0   3139998      138            28                   6                 11   \n",
       "1   1977647      138            30                   6                 17   \n",
       "2    389851      709             2                   0                 21   \n",
       "3    652770      764             1                   3                 13   \n",
       "4   1813452      764             3                   4                 17   \n",
       "\n",
       "   ...    price_range_loc     busiest_day  busiest_days  \\\n",
       "0  ...  Mid-range product  Regularly busy  Regular days   \n",
       "1  ...  Mid-range product  Regularly busy  Regular days   \n",
       "2  ...  Mid-range product     Busiest day  Busiest days   \n",
       "3  ...  Mid-range product  Regularly busy  Slowest days   \n",
       "4  ...  Mid-range product      Least busy  Slowest days   \n",
       "\n",
       "   busiest_period_of_day max_order      loyalty_flag avg_spend_user  \\\n",
       "0            Most orders        32  Regular customer       6.935811   \n",
       "1         Average orders        32  Regular customer       6.935811   \n",
       "2         Average orders         5      New customer       7.930208   \n",
       "3            Most orders         3      New customer       4.972414   \n",
       "4         Average orders         3      New customer       4.972414   \n",
       "\n",
       "  spending_flag ord_regularity_median     frequency_flag  \n",
       "0   Low spender                   8.0  Frequent customer  \n",
       "1   Low spender                   8.0  Frequent customer  \n",
       "2   Low spender                   8.0  Frequent customer  \n",
       "3   Low spender                   9.0  Frequent customer  \n",
       "4   Low spender                   9.0  Frequent customer  \n",
       "\n",
       "[5 rows x 26 columns]"
      ]
     },
     "execution_count": 5,
     "metadata": {},
     "output_type": "execute_result"
    }
   ],
   "source": [
    "# Taking a look at the import dataframe\n",
    "\n",
    "merged_project_data.head()"
   ]
  },
  {
   "cell_type": "code",
   "execution_count": 6,
   "id": "b2b6e895-2bda-4384-b8d0-42823cca0a58",
   "metadata": {},
   "outputs": [
    {
     "data": {
      "text/plain": [
       "(32434212, 26)"
      ]
     },
     "execution_count": 6,
     "metadata": {},
     "output_type": "execute_result"
    }
   ],
   "source": [
    "merged_project_data.shape"
   ]
  },
  {
   "cell_type": "code",
   "execution_count": 7,
   "id": "09e86a5b-1def-46eb-9d8b-d3c36c876b1b",
   "metadata": {},
   "outputs": [
    {
     "data": {
      "text/plain": [
       "<Axes: xlabel='orders_day_of_week'>"
      ]
     },
     "execution_count": 7,
     "metadata": {},
     "output_type": "execute_result"
    },
    {
     "data": {
      "image/png": "[encoded data removed]",
      "text/plain": [
       "<Figure size 640x480 with 1 Axes>"
      ]
     },
     "metadata": {},
     "output_type": "display_data"
    }
   ],
   "source": [
    "merged_project_data['orders_day_of_week'].value_counts().plot.bar()"
   ]
  },
  {
   "cell_type": "code",
   "execution_count": 8,
   "id": "4cb3c079-b850-4eaf-a985-dbe690e7cce8",
   "metadata": {},
   "outputs": [
    {
     "data": {
      "text/plain": [
       "<Axes: xlabel='orders_day_of_week'>"
      ]
     },
     "execution_count": 8,
     "metadata": {},
     "output_type": "execute_result"
    },
    {
     "data": {
      "image/png": "[encoded data removed]",
      "text/plain": [
       "<Figure size 640x480 with 1 Axes>"
      ]
     },
     "metadata": {},
     "output_type": "display_data"
    }
   ],
   "source": [
    "# Code to show the bars according to their index order: Add the function sort_index() to the code\n",
    "\n",
    "merged_project_data['orders_day_of_week'].value_counts().sort_index().plot.bar()"
   ]
  },
  {
   "cell_type": "markdown",
   "id": "d27002c4-0ca6-4b91-bde4-478404af8e33",
   "metadata": {},
   "source": [
    "#### <b>When to use 'sort_index()'?></b>"
   ]
  },
  {
   "cell_type": "markdown",
   "id": "9e6e8c46-cac2-4f92-853d-71702ef3299f",
   "metadata": {},
   "source": [
    "##### This can be useful if the data would be easier to understand in its original order.\n",
    "\n",
    "##### Example, days of the week or months of the year would be better understood if they were listed chronologically."
   ]
  },
  {
   "cell_type": "markdown",
   "id": "57f9edec-b0cb-4a8f-88ad-c3c6cc003bb9",
   "metadata": {},
   "source": [
    "#### <b>Adding colors</b>"
   ]
  },
  {
   "cell_type": "code",
   "execution_count": 12,
   "id": "da4d09ae-21f2-4d62-a577-8535cc6a9976",
   "metadata": {},
   "outputs": [
    {
     "data": {
      "text/plain": [
       "<Axes: xlabel='orders_day_of_week'>"
      ]
     },
     "execution_count": 12,
     "metadata": {},
     "output_type": "execute_result"
    },
    {
     "data": {
      "image/png": "[encoded data removed]",
      "text/plain": [
       "<Figure size 640x480 with 1 Axes>"
      ]
     },
     "metadata": {},
     "output_type": "display_data"
    }
   ],
   "source": [
    "merged_project_data['orders_day_of_week'].value_counts().sort_index().plot.bar(color = ['blue', 'yellow', 'green', 'purple', 'orange', 'red', 'pink'])"
   ]
  },
  {
   "cell_type": "code",
   "execution_count": 13,
   "id": "ddfced1d-b4da-4017-b3d2-0ba6ea31e412",
   "metadata": {},
   "outputs": [
    {
     "data": {
      "image/png": "[encoded data removed]",
      "text/plain": [
       "<Figure size 640x480 with 1 Axes>"
      ]
     },
     "metadata": {},
     "output_type": "display_data"
    }
   ],
   "source": [
    "bar = merged_project_data['orders_day_of_week'].value_counts().sort_index().plot.bar(color = ['blue', 'yellow', 'green', 'purple', 'orange', 'red', 'pink'])"
   ]
  },
  {
   "cell_type": "markdown",
   "id": "aee7ecef-0a01-45a2-b42b-efb15c4c2469",
   "metadata": {},
   "source": [
    "#### <b>Exporting the visualization</b>"
   ]
  },
  {
   "cell_type": "code",
   "execution_count": 15,
   "id": "915dc99e-b72b-48d6-be0c-191451721754",
   "metadata": {},
   "outputs": [],
   "source": [
    "# For this purpose, we use the function figure.savefig()\n",
    "\n",
    "bar.figure.savefig(os.path.join(path, '04 Analysis','Visualizations', 'bar_orders_dow.png'))"
   ]
  },
  {
   "cell_type": "markdown",
   "id": "cfaa220d-cd6a-4856-b77c-b9c8003efe64",
   "metadata": {},
   "source": [
    "### <b>Histograms and Scatterplots</b>"
   ]
  },
  {
   "cell_type": "code",
   "execution_count": 17,
   "id": "02e3fbfc-c31f-4784-a6e2-672ed62f88b6",
   "metadata": {},
   "outputs": [
    {
     "data": {
      "image/png": "[encoded data removed]",
      "text/plain": [
       "<Figure size 640x480 with 1 Axes>"
      ]
     },
     "metadata": {},
     "output_type": "display_data"
    }
   ],
   "source": [
    "# Histogram:\n",
    "\n",
    "hist = merged_project_data['prices'].plot.hist(bins = 25)"
   ]
  },
  {
   "cell_type": "code",
   "execution_count": 18,
   "id": "513fe42e-aa36-4e84-a35c-5eb54c373c3d",
   "metadata": {},
   "outputs": [
    {
     "data": {
      "text/plain": [
       "<Axes: xlabel='prices', ylabel='prices'>"
      ]
     },
     "execution_count": 18,
     "metadata": {},
     "output_type": "execute_result"
    },
    {
     "data": {
      "image/png": "[encoded data removed]",
      "text/plain": [
       "<Figure size 640x480 with 1 Axes>"
      ]
     },
     "metadata": {},
     "output_type": "display_data"
    }
   ],
   "source": [
    "# Scatterplot:\n",
    "\n",
    "sns.scatterplot(x = 'prices', y = 'prices',data = merged_project_data)"
   ]
  },
  {
   "cell_type": "markdown",
   "id": "a08f6920-6791-46aa-b66f-1262b38b91ae",
   "metadata": {},
   "source": [
    "#### Checking values above $100"
   ]
  },
  {
   "cell_type": "code",
   "execution_count": 20,
   "id": "eab8e65a-fbcb-4b3f-af0b-9e825e996f07",
   "metadata": {},
   "outputs": [
    {
     "data": {
      "text/html": [
       "<div>\n",
       "<style scoped>\n",
       "    .dataframe tbody tr th:only-of-type {\n",
       "        vertical-align: middle;\n",
       "    }\n",
       "\n",
       "    .dataframe tbody tr th {\n",
       "        vertical-align: top;\n",
       "    }\n",
       "\n",
       "    .dataframe thead th {\n",
       "        text-align: right;\n",
       "    }\n",
       "</style>\n",
       "<table border=\"1\" class=\"dataframe\">\n",
       "  <thead>\n",
       "    <tr style=\"text-align: right;\">\n",
       "      <th></th>\n",
       "      <th>product_id</th>\n",
       "      <th>product_name</th>\n",
       "      <th>aisle_id</th>\n",
       "      <th>department_id</th>\n",
       "      <th>prices</th>\n",
       "      <th>order_id</th>\n",
       "      <th>user_id</th>\n",
       "      <th>order_number</th>\n",
       "      <th>orders_day_of_week</th>\n",
       "      <th>order_hour_of_day</th>\n",
       "      <th>...</th>\n",
       "      <th>price_range_loc</th>\n",
       "      <th>busiest_day</th>\n",
       "      <th>busiest_days</th>\n",
       "      <th>busiest_period_of_day</th>\n",
       "      <th>max_order</th>\n",
       "      <th>loyalty_flag</th>\n",
       "      <th>avg_spend_user</th>\n",
       "      <th>spending_flag</th>\n",
       "      <th>ord_regularity_median</th>\n",
       "      <th>frequency_flag</th>\n",
       "    </tr>\n",
       "  </thead>\n",
       "  <tbody>\n",
       "  </tbody>\n",
       "</table>\n",
       "<p>0 rows × 26 columns</p>\n",
       "</div>"
      ],
      "text/plain": [
       "Empty DataFrame\n",
       "Columns: [product_id, product_name, aisle_id, department_id, prices, order_id, user_id, order_number, orders_day_of_week, order_hour_of_day, days_since_prior_order, first_order, add_to_cart_order, reordered, _merge, merge_status, price_range_loc, busiest_day, busiest_days, busiest_period_of_day, max_order, loyalty_flag, avg_spend_user, spending_flag, ord_regularity_median, frequency_flag]\n",
       "Index: []\n",
       "\n",
       "[0 rows x 26 columns]"
      ]
     },
     "execution_count": 20,
     "metadata": {},
     "output_type": "execute_result"
    }
   ],
   "source": [
    "merged_project_data.loc[merged_project_data['prices'] > 100]"
   ]
  },
  {
   "cell_type": "markdown",
   "id": "5293602a-e4ba-41ef-8d35-ca3c79dd84d3",
   "metadata": {},
   "source": [
    "#### Note: I corrected the outliers issue in the previous exercise."
   ]
  },
  {
   "cell_type": "code",
   "execution_count": 22,
   "id": "0c4930a4-69e1-40a2-8360-60be49676395",
   "metadata": {},
   "outputs": [
    {
     "data": {
      "text/plain": [
       "25.0"
      ]
     },
     "execution_count": 22,
     "metadata": {},
     "output_type": "execute_result"
    }
   ],
   "source": [
    "# Checking what the 'prices' max value is:\n",
    "\n",
    "merged_project_data['prices'].max()"
   ]
  },
  {
   "cell_type": "markdown",
   "id": "a8560b62-b565-4a45-80dc-88055eba8166",
   "metadata": {},
   "source": [
    "#### Exporting the histogram"
   ]
  },
  {
   "cell_type": "code",
   "execution_count": 24,
   "id": "9a5fcd1c-a3e0-46c8-ac80-d33d21f2b40b",
   "metadata": {},
   "outputs": [],
   "source": [
    "hist.figure.savefig(os.path.join(path, '04 Analysis','Visualizations', 'histogram_prices.png'))"
   ]
  },
  {
   "cell_type": "markdown",
   "id": "3f638360-100c-400d-bb69-374e56139960",
   "metadata": {},
   "source": [
    "#### <b>Sampling</b>"
   ]
  },
  {
   "cell_type": "code",
   "execution_count": 42,
   "id": "882a48c1-e390-4527-9727-726ce6b9656a",
   "metadata": {},
   "outputs": [],
   "source": [
    "# Create a list holding True/False values to the test np.random.rant() <= 0.7\n",
    "\n",
    "np.random.seed(4)\n",
    "\n",
    "dev = np.random.rand(len(merged_project_data)) <= 0.7"
   ]
  },
  {
   "cell_type": "code",
   "execution_count": 44,
   "id": "4fc8db1e-b364-4bbc-ae75-b61e0b73903b",
   "metadata": {},
   "outputs": [],
   "source": [
    "# Store 70% of the sample in the dataframe 'big'\n",
    "\n",
    "big = merged_project_data[dev]"
   ]
  },
  {
   "cell_type": "code",
   "execution_count": 45,
   "id": "eb1e395e-0647-4ff5-8e0a-379659d8f2c5",
   "metadata": {},
   "outputs": [],
   "source": [
    "# Store 30% of the sample in the dataframe 'small'\n",
    "\n",
    "small = merged_project_data[~dev]"
   ]
  },
  {
   "cell_type": "markdown",
   "id": "aea79b8b-9d9c-427a-935e-e675edd36878",
   "metadata": {},
   "source": [
    "#### Checking results"
   ]
  },
  {
   "cell_type": "code",
   "execution_count": 48,
   "id": "d337e89a-2333-4194-8218-90e7a59b7cf2",
   "metadata": {},
   "outputs": [
    {
     "data": {
      "text/plain": [
       "32434212"
      ]
     },
     "execution_count": 48,
     "metadata": {},
     "output_type": "execute_result"
    }
   ],
   "source": [
    "len(merged_project_data)"
   ]
  },
  {
   "cell_type": "code",
   "execution_count": 50,
   "id": "1d3edfec-67cb-4c47-9943-4c7d3edfb274",
   "metadata": {},
   "outputs": [
    {
     "data": {
      "text/plain": [
       "32434212"
      ]
     },
     "execution_count": 50,
     "metadata": {},
     "output_type": "execute_result"
    }
   ],
   "source": [
    "len(big) + len(small)"
   ]
  },
  {
   "cell_type": "markdown",
   "id": "a0aaf7c2-a8b0-42f5-a3b7-83b0e98aecbf",
   "metadata": {},
   "source": [
    "#### Storing in a variable the columns relevant for this visualization"
   ]
  },
  {
   "cell_type": "code",
   "execution_count": 54,
   "id": "410b8299-6b41-40e4-82c9-5215204791e8",
   "metadata": {},
   "outputs": [],
   "source": [
    "df_2 = small[['orders_day_of_week', 'prices']]"
   ]
  },
  {
   "cell_type": "markdown",
   "id": "3e127f6d-1eae-4eea-ad89-22e78de20591",
   "metadata": {},
   "source": [
    "#### Creating the chart"
   ]
  },
  {
   "cell_type": "code",
   "execution_count": 57,
   "id": "7cfcbdc0-e3d5-49c3-88c3-a352c797f99c",
   "metadata": {},
   "outputs": [
    {
     "data": {
      "image/png": "[encoded data removed]",
      "text/plain": [
       "<Figure size 640x480 with 1 Axes>"
      ]
     },
     "metadata": {},
     "output_type": "display_data"
    }
   ],
   "source": [
    "line = sns.lineplot(data = df_2, x = 'orders_day_of_week',y = 'prices')"
   ]
  },
  {
   "cell_type": "code",
   "execution_count": null,
   "id": "873b3c19-b9c3-49c8-9d5b-317ccf99fa6e",
   "metadata": {},
   "outputs": [],
   "source": []
  }
 ],
 "metadata": {
  "kernelspec": {
   "display_name": "Python 3 (ipykernel)",
   "language": "python",
   "name": "python3"
  },
  "language_info": {
   "codemirror_mode": {
    "name": "ipython",
    "version": 3
   },
   "file_extension": ".py",
   "mimetype": "text/x-python",
   "name": "python",
   "nbconvert_exporter": "python",
   "pygments_lexer": "ipython3",
   "version": "3.12.7"
  }
 },
 "nbformat": 4,
 "nbformat_minor": 5
}
